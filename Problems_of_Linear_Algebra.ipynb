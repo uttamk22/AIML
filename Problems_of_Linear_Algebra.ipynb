{
  "nbformat": 4,
  "nbformat_minor": 0,
  "metadata": {
    "colab": {
      "name": "Problems of Linear_Algebra.ipynb",
      "provenance": [],
      "collapsed_sections": [],
      "authorship_tag": "ABX9TyN3LhoMEmRH7guoCvsT9IOU",
      "include_colab_link": true
    },
    "kernelspec": {
      "name": "python3",
      "display_name": "Python 3"
    },
    "language_info": {
      "name": "python"
    }
  },
  "cells": [
    {
      "cell_type": "markdown",
      "metadata": {
        "id": "view-in-github",
        "colab_type": "text"
      },
      "source": [
        "<a href=\"https://colab.research.google.com/github/uttamk22/AIML/blob/main/Problems_of_Linear_Algebra.ipynb\" target=\"_parent\"><img src=\"https://colab.research.google.com/assets/colab-badge.svg\" alt=\"Open In Colab\"/></a>"
      ]
    },
    {
      "cell_type": "code",
      "metadata": {
        "colab": {
          "base_uri": "https://localhost:8080/"
        },
        "id": "Tl1vrFcFfaRN",
        "outputId": "6565e03b-2f7e-48cf-ef9b-9d3d880d3117"
      },
      "source": [
        "'''\n",
        "Q1 What is the distance from the point P=(4,−4,3) to the plane 2x−2y+5z+8=0\n",
        "'''\n",
        "\n",
        "import math\n",
        "def shortest_distance(x, y, z, a, b, c, d):\n",
        "     \n",
        "    ''' plane ax+by+cz+d = 0 i.e. 2x-2y+5z-8 = 0\n",
        "        point (x1,y1,z1) (4,-4,3)\n",
        "        shortest distance = ((dot product of plane vector and data point vector) + distance of plane to origin) / magnitude of the data point vector \n",
        "    '''\n",
        "    dotproduct = abs((a * x + b * y + c * z + d)) \n",
        "    ''' distance should not be negative , just the direction change\n",
        "    '''\n",
        "    wzero = (math.sqrt(a * a + b * b + c * c))\n",
        "    print(\"Perpendicular shortest distance is\", round(dotproduct/wzero,3))\n",
        "     \n",
        "# Driver Code\n",
        "# plane equation : ax + by + cz + d = 0 i.e 2x - 2y + 5z + 8 = 0\n",
        "# point p(x,y,z) = (4,-4,3)\n",
        "x,y,z = 4, -4, 3\n",
        "a, b , c, d = 2, -2, 5, 8\n",
        " \n",
        "# Function call\n",
        "shortest_distance(x1, y1, z1, a, b, c, d) "
      ],
      "execution_count": null,
      "outputs": [
        {
          "output_type": "stream",
          "name": "stdout",
          "text": [
            "Perpendicular shortest distance is 6.789\n"
          ]
        }
      ]
    },
    {
      "cell_type": "code",
      "metadata": {
        "colab": {
          "base_uri": "https://localhost:8080/"
        },
        "id": "qg-PNEB-XOVR",
        "outputId": "380aa58a-aab6-4251-e1d7-0aea7219b846"
      },
      "source": [
        "'''\n",
        "Q2 Find the angle between the two 3D vectors: a = [3,4,-1]_T and b=[2, -1 ,1]_T.\n",
        "'''\n",
        "\n",
        "import math\n",
        "def find_angle(a1,a2,a3,b1, b2, b3):\n",
        "    '''\n",
        "       v1 dot product v2 = v1 magnitude * v2 magnitude * costheta\n",
        "    '''\n",
        "    value = (a1*b1 + a2*b2 + a3*b3) / ((math.sqrt(a1 * a1 + a2 * a2 + a3 * a3)) * (math.sqrt(b1 * b1 + b2 * b2 + b3 * b3)))\n",
        "    theta = math.degrees (math.acos(value))\n",
        "    print(\"Angle in degree between two vectors\", round(theta,2))\n",
        "\n",
        "# Driver Code\n",
        "#Vector a = [3,4,-1]_T and b=[2, -1 ,1] --vectors are column vector by default \n",
        "a1,a2,a3 = 3, 4, -1\n",
        "b1, b2,b3  = 2, -1,1\n",
        "\n",
        "find_angle(a1,a2,a3,b1,b2,b3)\n",
        "\n",
        "\n"
      ],
      "execution_count": null,
      "outputs": [
        {
          "output_type": "stream",
          "name": "stdout",
          "text": [
            "Angle in degree between two vectors 85.41\n"
          ]
        }
      ]
    },
    {
      "cell_type": "code",
      "metadata": {
        "colab": {
          "base_uri": "https://localhost:8080/"
        },
        "id": "kLamxdariGFC",
        "outputId": "9648c9ab-e7b9-4bfe-a9b0-0a8c65799ce2"
      },
      "source": [
        "'''\n",
        "Q3 What is the distance from a 3-D point Origin P=[0,0,0] to a plane whose equation is 2x+y-2z=4?\n",
        "'''\n",
        "\n",
        "import math\n",
        "def find_origin_distance(w1,w2,w3,w0):\n",
        "    '''\n",
        "    distance from origin = abs (wzero) / magnitude of the vector plane \n",
        "    '''\n",
        "    d = abs(w0) / (math.sqrt(w1*w1 + w2*w2 + w3*w3))\n",
        "    print(\"plane distance from origin\", round(d,2))\n",
        "\n",
        "# Driver Code\n",
        "# Plane equation w1x+w2y+w3z+w0 = 0 i.e 2x+y-2z-4 = 0\n",
        "# origin point P=[0,0,0]\n",
        "w1,w2,w3, w0 = 2, 1, -2, -4\n",
        "find_origin_distance(w1,w2,w3,w0)\n"
      ],
      "execution_count": null,
      "outputs": [
        {
          "output_type": "stream",
          "name": "stdout",
          "text": [
            "plane distance from origin 1.33\n"
          ]
        }
      ]
    },
    {
      "cell_type": "code",
      "metadata": {
        "colab": {
          "base_uri": "https://localhost:8080/"
        },
        "id": "Qkjd3GS3mr8p",
        "outputId": "106eb3a8-7d4e-46d0-af67-02d51f707719"
      },
      "source": [
        "'''\n",
        "Q4 Given these eight 2D points as follows: [1,1], [2,2], [3,3], [-1, -1], [-2, -2], [-3, -3], [4, 4], [-4, 4]. \n",
        "Let us draw a circle whose center is at origin such that all these eight points are inside or on the circle. \n",
        "What is the radius of this circle\n",
        "'''\n",
        "\n",
        "#Point which are far from origin -> [4,4] [-4,4]\n",
        "import math\n",
        "distance_origin = lambda x, y : math.sqrt(x*x + y*y)\n",
        "print(\"distance of farthest 2D point on circle from origin -> {}\".format(round(distance_origin(-4,4),2)))\n",
        "\n"
      ],
      "execution_count": null,
      "outputs": [
        {
          "output_type": "stream",
          "name": "stdout",
          "text": [
            "distance of farthest 2D point on circle from origin -> 5.66\n"
          ]
        }
      ]
    },
    {
      "cell_type": "code",
      "metadata": {
        "colab": {
          "base_uri": "https://localhost:8080/"
        },
        "id": "eR17RdGSpbMf",
        "outputId": "922d8f85-2a15-48f3-c5f9-073d1905aabc"
      },
      "source": [
        "'''\n",
        "Q5 Given two hyperplanes: PI_1 = 2x+3y+4z=4 and PI_2 = 4x+6y+8z=12\n",
        "Find the distance between two planes\n",
        "'''\n",
        "\n",
        "import math\n",
        "def distance_between_planes(p1, p2):\n",
        "    a1 , a2, a3, a0 = p1[0], p1[1], p1[2], p1[3]\n",
        "    b1 , b2, b3 , b0 = p2[0], p2[1], p2[2], p2[3]\n",
        "    #distance of plane to origin \n",
        "    distance_origin = lambda w0,w1,w2,w3 : abs(w0) / (math.sqrt(w1*w1 + w2*w2 + w3*w3))\n",
        "    #distance between two plane = abs (distance of plane 1 to origin - distance of plane 2 to origin)\n",
        "    distance_plane = abs(distance_origin(a0,a1,a2,a3) - distance_origin(b0,b1,b2,b3))\n",
        "    print(\"Distance between two plane -> {}\".format(round(distance_plane,2)))\n",
        "\n",
        "#Driver Code\n",
        "#planes equation w1a1+w2a2+w3a3+wo = 0 representing in array [w1,w2,w3,w0]\n",
        "plane1 = [2,3,4,-4]\n",
        "plane2 = [4, 6,8 ,-12]\n",
        "distance_between_planes(plane1, plane2)\n",
        "\n",
        "\n"
      ],
      "execution_count": null,
      "outputs": [
        {
          "output_type": "stream",
          "name": "stdout",
          "text": [
            "Distance between two plane -> 0.37\n"
          ]
        }
      ]
    },
    {
      "cell_type": "code",
      "metadata": {
        "colab": {
          "base_uri": "https://localhost:8080/"
        },
        "id": "SpRZVCuT9GvT",
        "outputId": "f5fcb518-f653-4eb2-a59c-88f460fd5b58"
      },
      "source": [
        "'''\n",
        "Q6 Given two planes: PI_1: 2x+3y-z = 2  and PI_2 : 4x+6y-2z = 1.\n",
        "Find whether it is parallel or perpendicular\n",
        "'''\n",
        "\n",
        "import math\n",
        "def check_plane_parallel(p1, p2):\n",
        "    a1 , a2, a3 = p1[0], p1[1], p1[2]\n",
        "    b1 , b2, b3 = p2[0], p2[1], p2[2]\n",
        "    #if ratio of weights of two plane are equal then planes are parallel\n",
        "    if a1/b1 == a2/b2 and a2/b2 == a3/b3 :\n",
        "        print(\" p1{} p2{} Planes are parallel\".format(p1,p2))\n",
        "\n",
        "def check_plane_perpendicular(p1,p2):\n",
        "    a1 , a2, a3 = p1[0], p1[1], p1[2]\n",
        "    b1 , b2, b3 = p2[0], p2[1], p2[2]\n",
        "    #if dot product of two planes is 0 then planes are perpendicular\n",
        "    if (a1*b1 + a2*b2 + a3*b3) == 0:\n",
        "        print(\" p1{} p2{} planes are perpendicular\".format(p1,p2))\n",
        "    \n",
        "#Driver Code\n",
        "#planes equation w1a1+w2a2+w3a3+wo = 0 representing in array [w1,w2,w3,w0]\n",
        "plane1 = [2,3,-1]\n",
        "plane2 = [4, 6,-2 ]\n",
        "check_plane_parallel(plane1, plane2)\n",
        "plane3 = [1,2,-2]\n",
        "plane4 = [2, 2,3]\n",
        "check_plane_perpendicular(plane3, plane4)\n",
        "\n",
        "\n"
      ],
      "execution_count": null,
      "outputs": [
        {
          "output_type": "stream",
          "name": "stdout",
          "text": [
            " p1[2, 3, -1] p2[4, 6, -2] Planes are parallel\n",
            " p1[1, 2, -2] p2[2, 2, 3] planes are perpendicular\n"
          ]
        }
      ]
    },
    {
      "cell_type": "code",
      "metadata": {
        "colab": {
          "base_uri": "https://localhost:8080/"
        },
        "id": "tnt-m9QJOcZh",
        "outputId": "8048c8f4-61ba-468c-a598-823e16b7bf8c"
      },
      "source": [
        "'''\n",
        "Q7 Given two hyperspheres S1 and S2 with the respective centres and radii:\n",
        "S1: Center =  [1,1,1,1,1,1] and radius = 1\n",
        "S2: Center= [2,2,2,2,2,2] and radius=2\n",
        "Find the distance between centres\n",
        "'''\n",
        "\n",
        "import math\n",
        "def distance_centre(s1, s2):\n",
        "    value = 0\n",
        "    for i in range(len(s1)):\n",
        "        value += (s1[i]-s2[i])*(s1[i]-s2[i])\n",
        "    #distance between center of hypersphere = square root ((a1-b1)*(a1-b1)+ .... +(an-bn)*(an-bn))\n",
        "    distance = math.sqrt(value)\n",
        "    print(\"Distance between two hypersphere -> {}\".format(round(distance,2)))\n",
        "\n",
        "#Driver Code\n",
        "S1 = [1,1,1,1,1,1]\n",
        "S2 = [2,2,2,2,2,2]\n",
        "distance_centre(S1,S2)\n"
      ],
      "execution_count": null,
      "outputs": [
        {
          "output_type": "stream",
          "name": "stdout",
          "text": [
            "Distance between two hypersphere -> 2.45\n"
          ]
        }
      ]
    },
    {
      "cell_type": "code",
      "metadata": {
        "colab": {
          "base_uri": "https://localhost:8080/"
        },
        "id": "KpU2nbI6SDUN",
        "outputId": "99654e38-5122-4536-ebdd-b2c6d2adcc76"
      },
      "source": [
        "'''\n",
        "Q8 Given a point X= [1,1,1,1,1,1] and a Hypeprlane (PI) with a normal-vector = [0,0,0,0,0,1] and w0 (or b) = -1, \n",
        "check whether point is on hyperplane or in positive space or in negative space\n",
        "'''\n",
        "\n",
        "import math\n",
        "def check_point_hyperplane(p1, plane1, w0):\n",
        "    dot = 0\n",
        "    for i in range(len(p1)):\n",
        "        dot += p1[i]*plane1[i]\n",
        "    # if dot product of (W transpose and x) + w0 = 0 then x lies on the plane\n",
        "    # if dot product of (W transpose and x) + w0 > 0 then x lies in positive half space\n",
        "    # if dot product of (W transpose and x) + w0 < 0 then x lies in negative half space \n",
        "    eq_val = dot + w0\n",
        "    if eq_val == 0 :\n",
        "        print(\"Point {} lies on plane\".format(p1))\n",
        "    else:\n",
        "        if eq_val > 0 :\n",
        "            print(\"Point {} lies in positive half space\".format(p1))\n",
        "        else:\n",
        "            print(\"Point {} lies in negative half space\".format(p1))\n",
        "        \n",
        "\n",
        "#Driver Code\n",
        "X= [1,1,1,1,1,1]\n",
        "W = [0,0,0,0,0,1]\n",
        "W0 = -1\n",
        "check_point_hyperplane(X,W,W0)\n",
        "    "
      ],
      "execution_count": null,
      "outputs": [
        {
          "output_type": "stream",
          "name": "stdout",
          "text": [
            "Point [1, 1, 1, 1, 1, 1] lies on plane\n"
          ]
        }
      ]
    },
    {
      "cell_type": "code",
      "metadata": {
        "colab": {
          "base_uri": "https://localhost:8080/"
        },
        "id": "o31sV-YLX46M",
        "outputId": "07dda082-700b-4bb8-b1a0-10f17430e5bf"
      },
      "source": [
        "'''\n",
        "Q9 When we project x1=[1,1,1,1,1,1] on to x2= [2,2,2,2,2,2], what is the resultant vector equal to?\n",
        "'''\n",
        "\n",
        "import math\n",
        "import numpy\n",
        "def project_vector(x1,x2):\n",
        "    \n",
        "    #projection of x1 vector on x2 = x1.costheta . x2(unit vector)\n",
        "    dot, length = 0, 0\n",
        "    for i in range(len(x1)):\n",
        "        dot += x1[i]*x2[i]\n",
        "    for i in range(len(x2)):\n",
        "        length += x2[i]*x2[i]\n",
        "    length = math.sqrt(length)\n",
        "    \n",
        "    x2_unit_vector = numpy.array(x2)/ length\n",
        "    projection = dot/length * x2_unit_vector\n",
        "    print(\" If we Project x1={0} on to x2={1} then Projection vector -> {2}\".format(x1,x2,projection))\n",
        "\n",
        "\n",
        "#Driver Code\n",
        "x1=[1,1,1,1,1,1] \n",
        "x2= [2,2,2,2,2,2]\n",
        "project_vector(x1,x2)\n",
        "\n",
        "\n",
        "\n"
      ],
      "execution_count": null,
      "outputs": [
        {
          "output_type": "stream",
          "name": "stdout",
          "text": [
            " If we Project x1=[1, 1, 1, 1, 1, 1] on to x2=[2, 2, 2, 2, 2, 2] then Projection vector -> [1. 1. 1. 1. 1. 1.]\n"
          ]
        }
      ]
    }
  ]
}